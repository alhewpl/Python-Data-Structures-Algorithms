{
 "cells": [
  {
   "cell_type": "markdown",
   "metadata": {},
   "source": [
    "### Balanced Parentheses Checker"
   ]
  },
  {
   "cell_type": "markdown",
   "metadata": {},
   "source": [
    "#### My Solution"
   ]
  },
  {
   "cell_type": "code",
   "execution_count": 1,
   "metadata": {
    "collapsed": true
   },
   "outputs": [],
   "source": [
    "def balance_check(string):\n",
    "    mapping = dict(zip('({[', ')}]'))\n",
    "    queue = []\n",
    "    for letter in string:\n",
    "        if letter in mapping:\n",
    "            queue.append(mapping[letter])\n",
    "        elif not (queue and letter == queue.pop()):\n",
    "            return False\n",
    "    return not queue       "
   ]
  },
  {
   "cell_type": "code",
   "execution_count": 2,
   "metadata": {},
   "outputs": [
    {
     "name": "stdout",
     "output_type": "stream",
     "text": [
      "False\n"
     ]
    }
   ],
   "source": [
    "print (balance_check('[]()()(((([])))'))"
   ]
  },
  {
   "cell_type": "code",
   "execution_count": 3,
   "metadata": {},
   "outputs": [
    {
     "name": "stdout",
     "output_type": "stream",
     "text": [
      "True\n"
     ]
    }
   ],
   "source": [
    "print (balance_check('[](){{{[]}}}'))"
   ]
  },
  {
   "cell_type": "markdown",
   "metadata": {
    "collapsed": true
   },
   "source": [
    "#### Suggested solution"
   ]
  },
  {
   "cell_type": "code",
   "execution_count": 7,
   "metadata": {
    "collapsed": true
   },
   "outputs": [],
   "source": [
    "def balance_check(s):\n",
    "    \n",
    "    # check edge case\n",
    "    if len(s)%2 != 0:\n",
    "        return False\n",
    "    \n",
    "    opening = set('({[')\n",
    "    matches = set([('(', ')'), ('[', ']'), ('{', '}')])\n",
    "    \n",
    "    stack = []\n",
    "    \n",
    "    # check every parenthesis in string\n",
    "    for paren in s:\n",
    "        if paren in opening:\n",
    "            stack.append(paren)\n",
    "        else:\n",
    "            if len(stack) == 0:\n",
    "                return False\n",
    "            # check the last opened parenthesis\n",
    "            last_open = stack.pop()\n",
    "            \n",
    "            if (last_open, paren) not in matches:\n",
    "                return False\n",
    "            \n",
    "    return len(stack) == 0        "
   ]
  },
  {
   "cell_type": "code",
   "execution_count": 8,
   "metadata": {},
   "outputs": [
    {
     "name": "stdout",
     "output_type": "stream",
     "text": [
      "False\n"
     ]
    }
   ],
   "source": [
    "print (balance_check('[]()()(((([])))'))"
   ]
  },
  {
   "cell_type": "code",
   "execution_count": 9,
   "metadata": {},
   "outputs": [
    {
     "name": "stdout",
     "output_type": "stream",
     "text": [
      "True\n"
     ]
    }
   ],
   "source": [
    "print (balance_check('[](){{{[]}}}'))"
   ]
  },
  {
   "cell_type": "markdown",
   "metadata": {},
   "source": [
    "### Implement-A-Queue-Using-2-Stacks"
   ]
  },
  {
   "cell_type": "code",
   "execution_count": 11,
   "metadata": {
    "collapsed": true
   },
   "outputs": [],
   "source": [
    "class Queue2Stacks(object):\n",
    "    \n",
    "    def __init__(self):\n",
    "        \n",
    "        # Two Stacks\n",
    "        self.stack1 = []\n",
    "        self.stack2 = []\n",
    "     \n",
    "    def enqueue(self,element):\n",
    "        self.stack1.append(element)\n",
    "        \n",
    "    def dequeue(self):\n",
    "        if not self.stack2:\n",
    "            while self.stack1:\n",
    "                self.stack2.append(self.stack1.pop())\n",
    "        return self.stack2.pop()"
   ]
  },
  {
   "cell_type": "code",
   "execution_count": null,
   "metadata": {
    "collapsed": true
   },
   "outputs": [],
   "source": []
  }
 ],
 "metadata": {
  "kernelspec": {
   "display_name": "Python 3",
   "language": "python",
   "name": "python3"
  },
  "language_info": {
   "codemirror_mode": {
    "name": "ipython",
    "version": 3
   },
   "file_extension": ".py",
   "mimetype": "text/x-python",
   "name": "python",
   "nbconvert_exporter": "python",
   "pygments_lexer": "ipython3",
   "version": "3.6.1"
  }
 },
 "nbformat": 4,
 "nbformat_minor": 2
}
