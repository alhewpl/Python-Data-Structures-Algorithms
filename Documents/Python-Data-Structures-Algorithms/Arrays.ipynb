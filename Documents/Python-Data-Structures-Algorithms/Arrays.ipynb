{
 "cells": [
  {
   "cell_type": "markdown",
   "metadata": {},
   "source": [
    "## Check if 2 strings are anagrams"
   ]
  },
  {
   "cell_type": "markdown",
   "metadata": {},
   "source": [
    "#### 1) My Solution"
   ]
  },
  {
   "cell_type": "code",
   "execution_count": 11,
   "metadata": {
    "collapsed": true
   },
   "outputs": [],
   "source": [
    "def anagram(s1, s2):\n",
    "    s1_lst = list(s1).sort()\n",
    "    s2_lst = list(s2).sort()\n",
    "    return s1_lst == s2_lst"
   ]
  },
  {
   "cell_type": "code",
   "execution_count": 12,
   "metadata": {},
   "outputs": [
    {
     "data": {
      "text/plain": [
       "True"
      ]
     },
     "execution_count": 12,
     "metadata": {},
     "output_type": "execute_result"
    }
   ],
   "source": [
    "anagram('dog', 'god')\n"
   ]
  },
  {
   "cell_type": "markdown",
   "metadata": {},
   "source": [
    "#### 2) Suggested solution"
   ]
  },
  {
   "cell_type": "code",
   "execution_count": 16,
   "metadata": {
    "collapsed": true
   },
   "outputs": [],
   "source": [
    "def anagram2(s1, s2):\n",
    "    #remove spaces and make evrything lowercase\n",
    "    s1 = s1.replace(' ', '').lower()\n",
    "    s2 = s2.replace(' ', '').lower()\n",
    "    \n",
    "    #check edge case(number of characters need to be the same, otherwise there's )\n",
    "    if len(s1) != len(s2):\n",
    "        return False\n",
    "    \n",
    "    count = {}\n",
    "    for letter in s1:\n",
    "        if letter in count:\n",
    "            count[letter] += 1\n",
    "        else:\n",
    "            count[letter] = 1\n",
    "            \n",
    "    for letter in s2:\n",
    "        if letter in count:\n",
    "            count[letter] -= 1\n",
    "        else:\n",
    "            count[letter] = 1\n",
    "            \n",
    "    for k in count:\n",
    "        if count[k] != 0:\n",
    "            return False\n",
    "    \n",
    "    return True\n"
   ]
  },
  {
   "cell_type": "code",
   "execution_count": 17,
   "metadata": {},
   "outputs": [
    {
     "data": {
      "text/plain": [
       "True"
      ]
     },
     "execution_count": 17,
     "metadata": {},
     "output_type": "execute_result"
    }
   ],
   "source": [
    "anagram2('dog', 'god')"
   ]
  },
  {
   "cell_type": "code",
   "execution_count": 18,
   "metadata": {},
   "outputs": [
    {
     "data": {
      "text/plain": [
       "True"
      ]
     },
     "execution_count": 18,
     "metadata": {},
     "output_type": "execute_result"
    }
   ],
   "source": [
    "anagram2('clint eastwood','old west action')"
   ]
  },
  {
   "cell_type": "markdown",
   "metadata": {},
   "source": [
    "## Array Pair Sum"
   ]
  },
  {
   "cell_type": "markdown",
   "metadata": {},
   "source": [
    "#### 1) My solution"
   ]
  },
  {
   "cell_type": "markdown",
   "metadata": {},
   "source": [
    "##### incomplete, cause I'm only returning 1 pair, instead of all pairs of ints "
   ]
  },
  {
   "cell_type": "code",
   "execution_count": 37,
   "metadata": {
    "collapsed": true
   },
   "outputs": [],
   "source": [
    "def pair_sum(arr, k):\n",
    "    sorted_arr = list(sorted(arr))\n",
    "    lo_index = 0\n",
    "    hi_index = len(arr) -1\n",
    "    pairs = []\n",
    "    if lo_index < hi_index:\n",
    "        pair = sorted_arr[lo_index] + sorted_arr[hi_index]\n",
    "        pairs.append(pair)\n",
    "        if pair < k:\n",
    "            lo_index += 1\n",
    "        else:\n",
    "            hi_index -= 1\n",
    "    return len(pairs)\n",
    "    \n",
    "        \n",
    "            \n",
    "    raise ValueError('No pair adds to {}'.format(k))   "
   ]
  },
  {
   "cell_type": "code",
   "execution_count": 38,
   "metadata": {},
   "outputs": [
    {
     "data": {
      "text/plain": [
       "1"
      ]
     },
     "execution_count": 38,
     "metadata": {},
     "output_type": "execute_result"
    }
   ],
   "source": [
    "pair_sum([1,3,2,2],4)"
   ]
  },
  {
   "cell_type": "markdown",
   "metadata": {},
   "source": [
    "#### 2) Suggested solution"
   ]
  },
  {
   "cell_type": "code",
   "execution_count": 41,
   "metadata": {
    "collapsed": true
   },
   "outputs": [],
   "source": [
    "def pair_sum(arr, k):\n",
    "    if len(arr) < 2:\n",
    "        return False\n",
    "    \n",
    "    #Create lists for tracking\n",
    "    seen = list()\n",
    "    output = list()\n",
    "    \n",
    "    for num in arr:\n",
    "        #Get second element of the sum pair\n",
    "        target = k - num\n",
    "        \n",
    "        if target not in seen:\n",
    "            seen.append(num)\n",
    "        else:\n",
    "            # Add a tuple with the corresponding pair\n",
    "            output.append( (min(num,target),  max(num,target)) )  \n",
    "            \n",
    "    return len(output)        "
   ]
  },
  {
   "cell_type": "code",
   "execution_count": 42,
   "metadata": {},
   "outputs": [
    {
     "data": {
      "text/plain": [
       "2"
      ]
     },
     "execution_count": 42,
     "metadata": {},
     "output_type": "execute_result"
    }
   ],
   "source": [
    "pair_sum([1,3,2,2], 4)"
   ]
  },
  {
   "cell_type": "markdown",
   "metadata": {},
   "source": [
    "## Find the Missing Element"
   ]
  },
  {
   "cell_type": "markdown",
   "metadata": {},
   "source": [
    "#### 1) My Solution"
   ]
  },
  {
   "cell_type": "code",
   "execution_count": 60,
   "metadata": {
    "collapsed": true
   },
   "outputs": [],
   "source": [
    "def finder(arr1, arr2):\n",
    "    #return [i for i in arr1 if i not in arr2 or arr2.remove(i)]\n",
    "    for i in arr1:\n",
    "        if i not in arr2 or arr2.remove(i):\n",
    "            return i"
   ]
  },
  {
   "cell_type": "code",
   "execution_count": 61,
   "metadata": {},
   "outputs": [
    {
     "data": {
      "text/plain": [
       "5"
      ]
     },
     "execution_count": 61,
     "metadata": {},
     "output_type": "execute_result"
    }
   ],
   "source": [
    "arr1 = [1,2,3,4,5,6,7]\n",
    "arr2 = [3,7,2,1,4,6]\n",
    "finder(arr1,arr2)"
   ]
  },
  {
   "cell_type": "markdown",
   "metadata": {},
   "source": [
    "#### 2) Suggested solutions"
   ]
  },
  {
   "cell_type": "markdown",
   "metadata": {},
   "source": [
    "##### a. "
   ]
  },
  {
   "cell_type": "code",
   "execution_count": 62,
   "metadata": {
    "collapsed": true
   },
   "outputs": [],
   "source": [
    "def finder(arr1, arr2):\n",
    "    #sort the lists\n",
    "    arr1.sort()\n",
    "    arr2.sort()\n",
    "    \n",
    "    #compare elements in the lists:\n",
    "    for num1, num2 in zip(arr1, arr2):\n",
    "        if num1 != num2:\n",
    "            return num1\n",
    "    # Otherwise return last element\n",
    "    return arr1[-1]    "
   ]
  },
  {
   "cell_type": "code",
   "execution_count": 63,
   "metadata": {},
   "outputs": [
    {
     "data": {
      "text/plain": [
       "5"
      ]
     },
     "execution_count": 63,
     "metadata": {},
     "output_type": "execute_result"
    }
   ],
   "source": [
    "arr1 = [1,2,3,4,5,6,7]\n",
    "arr2 = [3,7,2,1,4,6]\n",
    "finder(arr1,arr2)"
   ]
  },
  {
   "cell_type": "markdown",
   "metadata": {},
   "source": [
    "##### b. "
   ]
  },
  {
   "cell_type": "code",
   "execution_count": 64,
   "metadata": {
    "collapsed": true
   },
   "outputs": [],
   "source": [
    "import collections\n",
    "\n",
    "def finder(arr1, arr2):\n",
    "    # Using default dict to avoid key errors\n",
    "    d=collections.defaultdict(int) \n",
    "    \n",
    "    # Add a count for every instance in Array 2\n",
    "    for num in arr2:\n",
    "        d[num]+=1 \n",
    "    \n",
    "    # Check if num not in dictionary\n",
    "    for num in arr1: \n",
    "        if d[num]==0: \n",
    "            return num \n",
    "        \n",
    "        # Otherwise, subtract a count\n",
    "        else: d[num]-=1 "
   ]
  },
  {
   "cell_type": "code",
   "execution_count": 65,
   "metadata": {},
   "outputs": [
    {
     "data": {
      "text/plain": [
       "5"
      ]
     },
     "execution_count": 65,
     "metadata": {},
     "output_type": "execute_result"
    }
   ],
   "source": [
    "arr1 = [1,2,3,4,5,6,7]\n",
    "arr2 = [3,7,2,1,4,6]\n",
    "finder(arr1,arr2)"
   ]
  },
  {
   "cell_type": "markdown",
   "metadata": {},
   "source": [
    "##### c."
   ]
  },
  {
   "cell_type": "code",
   "execution_count": 67,
   "metadata": {
    "collapsed": true
   },
   "outputs": [],
   "source": [
    "def finder3(arr1, arr2): \n",
    "    result=0 \n",
    "    \n",
    "    # Perform an XOR between the numbers in the arrays\n",
    "    for num in arr1+arr2: \n",
    "        result^=num \n",
    "        print (result)\n",
    "        \n",
    "    return result "
   ]
  },
  {
   "cell_type": "code",
   "execution_count": 68,
   "metadata": {},
   "outputs": [
    {
     "data": {
      "text/plain": [
       "5"
      ]
     },
     "execution_count": 68,
     "metadata": {},
     "output_type": "execute_result"
    }
   ],
   "source": [
    "arr1 = [1,2,3,4,5,6,7]\n",
    "arr2 = [3,7,2,1,4,6]\n",
    "finder(arr1,arr2)"
   ]
  },
  {
   "cell_type": "markdown",
   "metadata": {},
   "source": [
    "## Largest Continuous Sum"
   ]
  },
  {
   "cell_type": "markdown",
   "metadata": {},
   "source": [
    "#### 1) My Solution"
   ]
  },
  {
   "cell_type": "markdown",
   "metadata": {},
   "source": [
    "The algorithm:\n",
    "    \n",
    "After adding each element, we check whether the current sum is larger than maximum sum encountered so far. If it is, we update the maximum sum. As long as the current sum is positive, we keep adding the numbers. When the current sum becomes negative, we start with a new current sum. Because a negative current sum will only decrease the sum of a future sequence. Note that we don’t reset the current sum to 0 because the array can contain all negative integers. Then the result would be the largest negative number."
   ]
  },
  {
   "cell_type": "code",
   "execution_count": 75,
   "metadata": {
    "collapsed": true
   },
   "outputs": [],
   "source": [
    "def large_cont_sum(arr):\n",
    "    \n",
    "    #check edge case\n",
    "    if len(arr) < 1:\n",
    "        return\n",
    "    \n",
    "    #initialize current sum variable, set it equal to first element in the array\n",
    "    maxSum = currentSum = arr[0]\n",
    "    \n",
    "    \n",
    "    for num in arr[1:]:\n",
    "        #start summing up the numbers\n",
    "        currentSum = max(currentSum + num, num)\n",
    "        maxSum = max(currentSum, maxSum)\n",
    "    \n",
    "    return maxSum\n",
    "        \n",
    "    "
   ]
  },
  {
   "cell_type": "code",
   "execution_count": 76,
   "metadata": {},
   "outputs": [
    {
     "data": {
      "text/plain": [
       "29"
      ]
     },
     "execution_count": 76,
     "metadata": {},
     "output_type": "execute_result"
    }
   ],
   "source": [
    "large_cont_sum([1,2,-1,3,4,10,10,-10,-1])"
   ]
  },
  {
   "cell_type": "markdown",
   "metadata": {
    "collapsed": true
   },
   "source": [
    "## Reverse String"
   ]
  },
  {
   "cell_type": "markdown",
   "metadata": {},
   "source": [
    "#### 1) My Solutions"
   ]
  },
  {
   "cell_type": "code",
   "execution_count": 1,
   "metadata": {
    "collapsed": true
   },
   "outputs": [],
   "source": [
    "def reverse_word(string):\n",
    "    return string[::-1]"
   ]
  },
  {
   "cell_type": "code",
   "execution_count": 2,
   "metadata": {},
   "outputs": [
    {
     "data": {
      "text/plain": [
       "'olleh'"
      ]
     },
     "execution_count": 2,
     "metadata": {},
     "output_type": "execute_result"
    }
   ],
   "source": [
    "reverse_word('hello')"
   ]
  },
  {
   "cell_type": "code",
   "execution_count": 20,
   "metadata": {
    "collapsed": true
   },
   "outputs": [],
   "source": [
    "def reverse(string):\n",
    "    new_str = []\n",
    "    index = len(string)\n",
    "    for i in range(index):\n",
    "        index -= 1\n",
    "        new_str.append(string[index])\n",
    "        print(new_str)\n",
    "    return ''.join(new_str).split()"
   ]
  },
  {
   "cell_type": "code",
   "execution_count": 21,
   "metadata": {},
   "outputs": [
    {
     "name": "stdout",
     "output_type": "stream",
     "text": [
      "[' ']\n",
      "[' ', 'o']\n",
      "[' ', 'o', 'l']\n",
      "[' ', 'o', 'l', 'l']\n",
      "[' ', 'o', 'l', 'l', 'e']\n",
      "[' ', 'o', 'l', 'l', 'e', 'h']\n",
      "[' ', 'o', 'l', 'l', 'e', 'h', ' ']\n"
     ]
    },
    {
     "data": {
      "text/plain": [
       "['olleh']"
      ]
     },
     "execution_count": 21,
     "metadata": {},
     "output_type": "execute_result"
    }
   ],
   "source": [
    "reverse(' hello ')"
   ]
  },
  {
   "cell_type": "markdown",
   "metadata": {},
   "source": [
    "#### 2) Suggested solution"
   ]
  },
  {
   "cell_type": "code",
   "execution_count": 26,
   "metadata": {
    "collapsed": true
   },
   "outputs": [],
   "source": [
    "def rev_word(string):\n",
    "    words = []\n",
    "    length = len(string)\n",
    "    spaces = [' ']\n",
    "    \n",
    "    i = 0\n",
    "    \n",
    "    # While index is less than length of string\n",
    "    while i < length:\n",
    "        if string[i] not in spaces:   # If element isn't a space\n",
    "            word_start = i\n",
    "            while i < length and string[i] not in spaces: \n",
    "                i += 1                                    # Get index where word ends\n",
    "            words.append(string[word_start:i])\n",
    "    # Add to index\n",
    "        i += 1\n",
    "    \n",
    "    # Join the reversed words\n",
    "    return \" \".join(reversed(words))"
   ]
  },
  {
   "cell_type": "code",
   "execution_count": 27,
   "metadata": {},
   "outputs": [
    {
     "data": {
      "text/plain": [
       "'you are how John Hello'"
      ]
     },
     "execution_count": 27,
     "metadata": {},
     "output_type": "execute_result"
    }
   ],
   "source": [
    "rev_word('   Hello John    how are you   ')"
   ]
  },
  {
   "cell_type": "markdown",
   "metadata": {},
   "source": [
    "## String Compression"
   ]
  },
  {
   "cell_type": "markdown",
   "metadata": {},
   "source": [
    "#### 1) My solution"
   ]
  },
  {
   "cell_type": "code",
   "execution_count": 48,
   "metadata": {
    "collapsed": true
   },
   "outputs": [],
   "source": [
    "def compress(string):\n",
    "    freq_count = {}\n",
    "\n",
    "    for index, char in enumerate(string):\n",
    "        if char not in freq_count:\n",
    "            freq_count[char] = 1\n",
    "        else:\n",
    "            freq_count[char] += 1\n",
    "        #print (freq_count)    \n",
    "\n",
    "    return_string = ''\n",
    "    for key in freq_count:\n",
    "        return_string += key + str(freq_count[key])\n",
    "    #print(return_string)\n",
    "\n",
    "    return return_string\n",
    "  "
   ]
  },
  {
   "cell_type": "code",
   "execution_count": 49,
   "metadata": {},
   "outputs": [
    {
     "data": {
      "text/plain": [
       "'A3a2B4C3'"
      ]
     },
     "execution_count": 49,
     "metadata": {},
     "output_type": "execute_result"
    }
   ],
   "source": [
    "compress('AAAaaBBBBCCC')"
   ]
  },
  {
   "cell_type": "markdown",
   "metadata": {},
   "source": [
    "#### 2) Suggested solution"
   ]
  },
  {
   "cell_type": "code",
   "execution_count": 50,
   "metadata": {
    "collapsed": true
   },
   "outputs": [],
   "source": [
    "def compress(s):\n",
    "    \"\"\"\n",
    "    This solution compresses without checking. Known as the RunLength Compression algorithm.\n",
    "    \"\"\"\n",
    "    \n",
    "    # Begin Run as empty string\n",
    "    r = \"\"\n",
    "    l = len(s)\n",
    "    \n",
    "    # Check for length 0\n",
    "    if l == 0:\n",
    "        return \"\"\n",
    "    \n",
    "    # Check for length 1\n",
    "    if l == 1:\n",
    "        return s + \"1\"\n",
    "    \n",
    "    #Intialize Values\n",
    "    last = s[0]\n",
    "    cnt = 1\n",
    "    i = 1\n",
    "    \n",
    "    while i < l:\n",
    "        \n",
    "        # Check to see if it is the same letter\n",
    "        if s[i] == s[i - 1]: \n",
    "            # Add a count if same as previous\n",
    "            cnt += 1\n",
    "        else:\n",
    "            # Otherwise store the previous data\n",
    "            r = r + s[i - 1] + str(cnt)\n",
    "            cnt = 1\n",
    "            \n",
    "        # Add to index count to terminate while loop\n",
    "        i += 1\n",
    "    \n",
    "    # Put everything back into run\n",
    "    r = r + s[i - 1] + str(cnt)\n",
    "    \n",
    "    return r"
   ]
  },
  {
   "cell_type": "code",
   "execution_count": 51,
   "metadata": {},
   "outputs": [
    {
     "data": {
      "text/plain": [
       "'A5B4C4'"
      ]
     },
     "execution_count": 51,
     "metadata": {},
     "output_type": "execute_result"
    }
   ],
   "source": [
    "compress('AAAAABBBBCCCC')"
   ]
  },
  {
   "cell_type": "markdown",
   "metadata": {},
   "source": [
    "## Unique Characters"
   ]
  },
  {
   "cell_type": "markdown",
   "metadata": {},
   "source": [
    "#### 1) My Solution"
   ]
  },
  {
   "cell_type": "code",
   "execution_count": 52,
   "metadata": {
    "collapsed": true
   },
   "outputs": [],
   "source": [
    "def uni_char(string):\n",
    "    x = []\n",
    "    nonchars = [' ', '.', ',']\n",
    "    for nonchar in nonchars:\n",
    "        string = string.replace(nonchar, '')\n",
    "    for i in string:\n",
    "        if i in x:\n",
    "            return False\n",
    "        else:\n",
    "            x.append(i)\n",
    "    return True        "
   ]
  },
  {
   "cell_type": "code",
   "execution_count": 53,
   "metadata": {},
   "outputs": [
    {
     "data": {
      "text/plain": [
       "True"
      ]
     },
     "execution_count": 53,
     "metadata": {},
     "output_type": "execute_result"
    }
   ],
   "source": [
    "uni_char( 'I am J' )"
   ]
  },
  {
   "cell_type": "code",
   "execution_count": 54,
   "metadata": {},
   "outputs": [
    {
     "data": {
      "text/plain": [
       "False"
      ]
     },
     "execution_count": 54,
     "metadata": {},
     "output_type": "execute_result"
    }
   ],
   "source": [
    "uni_char('goo')"
   ]
  },
  {
   "cell_type": "markdown",
   "metadata": {},
   "source": [
    "#### 2) Suggested solution"
   ]
  },
  {
   "cell_type": "code",
   "execution_count": 55,
   "metadata": {
    "collapsed": true
   },
   "outputs": [],
   "source": [
    "def isunique(s):\n",
    "    return len(set(s)) == len(s)"
   ]
  },
  {
   "cell_type": "code",
   "execution_count": 56,
   "metadata": {},
   "outputs": [
    {
     "data": {
      "text/plain": [
       "False"
      ]
     },
     "execution_count": 56,
     "metadata": {},
     "output_type": "execute_result"
    }
   ],
   "source": [
    "isunique('abcdea')"
   ]
  },
  {
   "cell_type": "code",
   "execution_count": null,
   "metadata": {
    "collapsed": true
   },
   "outputs": [],
   "source": []
  }
 ],
 "metadata": {
  "kernelspec": {
   "display_name": "Python 3",
   "language": "python",
   "name": "python3"
  },
  "language_info": {
   "codemirror_mode": {
    "name": "ipython",
    "version": 3
   },
   "file_extension": ".py",
   "mimetype": "text/x-python",
   "name": "python",
   "nbconvert_exporter": "python",
   "pygments_lexer": "ipython3",
   "version": "3.6.1"
  }
 },
 "nbformat": 4,
 "nbformat_minor": 2
}
